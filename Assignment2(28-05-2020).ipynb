{
 "cells": [
  {
   "cell_type": "code",
   "execution_count": 1,
   "metadata": {},
   "outputs": [
    {
     "name": "stdout",
     "output_type": "stream",
     "text": [
      "enter the stringwelcome\n",
      "Vowels: 3\n",
      "Consonant: 4\n",
      "Special Character: 0\n"
     ]
    }
   ],
   "source": [
    "#Question 1:\n",
    "#Accept a string from the user and count no.of vowels,consonants and special characters\n",
    "s=input(\"enter the string\")\n",
    "vcount=0\n",
    "ccount=0\n",
    "scount=0\n",
    "for i in range(0, len(s)):  \n",
    "    ch = s[i]  \n",
    "    if ( (ch >= 'a' and ch <= 'z') or (ch >= 'A' and ch <= 'Z') ):  \n",
    "        ch = ch.lower() \n",
    "        if (ch == 'a' or ch == 'e' or ch == 'i' or ch == 'o' or ch == 'u'): \n",
    "                vcount += 1\n",
    "        else: \n",
    "                ccount+= 1\n",
    "          \n",
    "        \n",
    "    else: \n",
    "            scount+= 1\n",
    "print(\"Vowels:\", vcount) \n",
    "print(\"Consonant:\", ccount)  \n",
    "print(\"Special Character:\", scount)"
   ]
  },
  {
   "cell_type": "code",
   "execution_count": 2,
   "metadata": {},
   "outputs": [
    {
     "name": "stdout",
     "output_type": "stream",
     "text": [
      "enter the stringabbaacabbba\n",
      "1\n"
     ]
    }
   ],
   "source": [
    "#Question 2:\n",
    "#count the no.of pairs of a in the given string(Infosys InfyTQ)\n",
    "#string →  \"abbaaccbbaaa\"\n",
    "#output →  2\n",
    "\n",
    "s=input(\"enter the string\")\n",
    "pairs_cnt = 0\n",
    "s1 = set(s)\n",
    "for i in s1:\n",
    "    if(i=='a'):\n",
    "        pairs_cnt += s.count(i + i)\n",
    "print(pairs_cnt)"
   ]
  },
  {
   "cell_type": "code",
   "execution_count": 3,
   "metadata": {},
   "outputs": [
    {
     "name": "stdout",
     "output_type": "stream",
     "text": [
      "enter the string((())) ()\n",
      "4\n"
     ]
    }
   ],
   "source": [
    "#Question 3:\n",
    "#Test case1:\n",
    "# string →  \"((((()()()))))()\"\n",
    "#output →  8\n",
    "#Test case2:\n",
    "#string →  \"((()))()\"\n",
    "#Output →  4\n",
    "\n",
    "s=input(\"enter the string\")\n",
    "pairs_cnt = 0\n",
    "s1 = set(s)\n",
    "for i in s1:\n",
    "    if(i=='(' or i==')'):\n",
    "        pairs_cnt += s.count(i+i)\n",
    "print(pairs_cnt*2)\n"
   ]
  },
  {
   "cell_type": "code",
   "execution_count": 4,
   "metadata": {},
   "outputs": [
    {
     "name": "stdout",
     "output_type": "stream",
     "text": [
      "  Enter the Maximum Value : 10\n",
      "9\n"
     ]
    }
   ],
   "source": [
    "#Question 4:\n",
    "#Read the input as two limits and Print the output as Palindrome count between the two limits\n",
    "#Example #1; Input : 1 10 Output : 9\n",
    "#Example #2: Input : 1 100 Output : 18\n",
    "\n",
    "maximum = int(input(\"  Enter the Maximum Value : \"))\n",
    "count=0\n",
    "for num in range(1, maximum + 1):\n",
    "    temp = num\n",
    "    reverse = 0\n",
    "    while(temp > 0):\n",
    "        Reminder = temp % 10\n",
    "        reverse = (reverse * 10) + Reminder\n",
    "        temp = temp //10\n",
    "\n",
    "    if(num == reverse):\n",
    "        count+=1\n",
    "print(count)"
   ]
  },
  {
   "cell_type": "code",
   "execution_count": 5,
   "metadata": {},
   "outputs": [
    {
     "name": "stdout",
     "output_type": "stream",
     "text": [
      "Enter a number:127\n",
      "848\n"
     ]
    }
   ],
   "source": [
    "#Question 5:\n",
    "#Accept a number as an input and check whether the given number is palindrome or not\n",
    "#if it is a palindrome number print the number on the screen\n",
    "#if it is not a palindrome number reverse that number and add it to previous number repeat this until will get a palindrome number and print that palindrome number on the screen\n",
    "#input: 127\n",
    "#output: 848\n",
    "num=int(input(\"Enter a number:\"))\n",
    "temp=num\n",
    "rev=0\n",
    "while(num>0):\n",
    "    dig=num%10\n",
    "    rev=rev*10+dig\n",
    "    num=num//10\n",
    "if(temp==rev):\n",
    "    print(\"The number is palindrome\")\n",
    "else:\n",
    "    print(temp+rev)"
   ]
  },
  {
   "cell_type": "code",
   "execution_count": 6,
   "metadata": {},
   "outputs": [
    {
     "name": "stdout",
     "output_type": "stream",
     "text": [
      "enter stringorange\n",
      "puboif"
     ]
    }
   ],
   "source": [
    "#question6\n",
    "s = str(input('enter string'))\n",
    "vowel = ['a','e','i','o','u']\n",
    "for i in s:\n",
    "    if i in vowel:\n",
    "        print(chr(ord(i)+1),end='')\n",
    "    elif (ord(i)>65 and ord(i)<69) or (ord(i)>97 and ord(i)<101):\n",
    "        print('e',end = \"\")\n",
    "    elif (ord(i)>69 and ord(i)<73) or (ord(i)>101 and ord(i)<105):\n",
    "        print('i',end = \"\")\n",
    "    elif (ord(i)>73 and ord(i)<79) or (ord(i)>105 and ord(i)<111):\n",
    "        print('o',end = \"\")\n",
    "    elif (ord(i)>79 and ord(i)<85) or (ord(i)>111 and ord(i)<117):\n",
    "        print('u',end = \"\")\n",
    "    elif (ord(i)>85 and ord(i)<90) or (ord(i)>117 and ord(i)<122):\n",
    "        print('a',end = \"\")"
   ]
  },
  {
   "cell_type": "code",
   "execution_count": 7,
   "metadata": {},
   "outputs": [
    {
     "name": "stdout",
     "output_type": "stream",
     "text": [
      "Enter your string: app33le34\n",
      "Total:-  13\n"
     ]
    }
   ],
   "source": [
    "#question7\n",
    "inputstr = input(\"Enter your string: \")\n",
    "sum_total = 0\n",
    "for x in inputstr:\n",
    "    if x.isdigit():\n",
    "        sum_total += int(x)\n",
    "\n",
    "\n",
    "print(\"Total:- \", sum_total)"
   ]
  },
  {
   "cell_type": "code",
   "execution_count": 9,
   "metadata": {},
   "outputs": [
    {
     "name": "stdout",
     "output_type": "stream",
     "text": [
      "Enter score between 0.0 and 1.0: 0.75\n",
      "C\n"
     ]
    }
   ],
   "source": [
    "#question8\n",
    "score = float(input(\"Enter score between 0.0 and 1.0: \"))\n",
    "if score>1.0 or score<0.0 :\n",
    "                        print(\"error\")\n",
    "elif score>=0.9 :\n",
    "            print ('A')\n",
    "elif score>=0.8 :\n",
    "            print ('B')\n",
    "elif score>=0.7 :\n",
    "            print ('C')\n",
    "elif score>=0.6 :\n",
    "            print ('D')\n",
    "else :\n",
    "            print ('F')"
   ]
  },
  {
   "cell_type": "code",
   "execution_count": 10,
   "metadata": {},
   "outputs": [
    {
     "name": "stdout",
     "output_type": "stream",
     "text": [
      "fizzbuzz\n",
      "1\n",
      "2\n",
      "fizz\n",
      "4\n",
      "buzz\n",
      "fizz\n",
      "7\n",
      "8\n",
      "fizz\n",
      "buzz\n",
      "11\n",
      "fizz\n",
      "13\n",
      "14\n",
      "fizzbuzz\n",
      "16\n",
      "17\n",
      "fizz\n",
      "19\n",
      "buzz\n",
      "fizz\n",
      "22\n",
      "23\n",
      "fizz\n",
      "buzz\n",
      "26\n",
      "fizz\n",
      "28\n",
      "29\n",
      "fizzbuzz\n",
      "31\n",
      "32\n",
      "fizz\n",
      "34\n",
      "buzz\n",
      "fizz\n",
      "37\n",
      "38\n",
      "fizz\n",
      "buzz\n",
      "41\n",
      "fizz\n",
      "43\n",
      "44\n",
      "fizzbuzz\n",
      "46\n",
      "47\n",
      "fizz\n",
      "49\n",
      "buzz\n"
     ]
    }
   ],
   "source": [
    "#question9\n",
    "for fizzbuzz in range(51):\n",
    "    if fizzbuzz % 3 == 0 and fizzbuzz % 5 == 0:\n",
    "        print(\"fizzbuzz\")\n",
    "        continue\n",
    "    elif fizzbuzz % 3 == 0:\n",
    "        print(\"fizz\")\n",
    "        continue\n",
    "    elif fizzbuzz % 5 == 0:\n",
    "        print(\"buzz\")\n",
    "        continue\n",
    "    print(fizzbuzz)"
   ]
  },
  {
   "cell_type": "code",
   "execution_count": 11,
   "metadata": {},
   "outputs": [
    {
     "name": "stdout",
     "output_type": "stream",
     "text": [
      "Input first number: 27\n",
      "Input second number: 29\n",
      "Input third number: 21\n",
      "The median is 27.0\n"
     ]
    }
   ],
   "source": [
    "#question10\n",
    "a = float(input(\"Input first number: \"))\n",
    "b = float(input(\"Input second number: \"))\n",
    "c = float(input(\"Input third number: \"))\n",
    "if a > b:\n",
    "    if a < c:\n",
    "        median = a\n",
    "    elif b > c:\n",
    "        median = b\n",
    "    else:\n",
    "        median = c\n",
    "else:\n",
    "    if a > c:\n",
    "        median = a\n",
    "    elif b < c:\n",
    "        median = b\n",
    "    else:\n",
    "        median = c\n",
    "\n",
    "print(\"The median is\", median)"
   ]
  },
  {
   "cell_type": "code",
   "execution_count": null,
   "metadata": {},
   "outputs": [],
   "source": []
  }
 ],
 "metadata": {
  "kernelspec": {
   "display_name": "Python 3",
   "language": "python",
   "name": "python3"
  },
  "language_info": {
   "codemirror_mode": {
    "name": "ipython",
    "version": 3
   },
   "file_extension": ".py",
   "mimetype": "text/x-python",
   "name": "python",
   "nbconvert_exporter": "python",
   "pygments_lexer": "ipython3",
   "version": "3.7.4"
  }
 },
 "nbformat": 4,
 "nbformat_minor": 2
}
